{
  "nbformat": 4,
  "nbformat_minor": 0,
  "metadata": {
    "colab": {
      "provenance": [],
      "gpuType": "T4"
    },
    "kernelspec": {
      "name": "python3",
      "display_name": "Python 3"
    },
    "language_info": {
      "name": "python"
    },
    "accelerator": "GPU"
  },
  "cells": [
    {
      "cell_type": "markdown",
      "source": [
        "Importing the shot data as a dataframe"
      ],
      "metadata": {
        "id": "dcjAt1t-eLKs"
      }
    },
    {
      "cell_type": "code",
      "source": [
        "import pandas as pd\n",
        "\n",
        "dff = pd.read_csv('PWHL_shots_by_region')"
      ],
      "metadata": {
        "id": "D9fwaBkogQJ4"
      },
      "execution_count": null,
      "outputs": []
    },
    {
      "cell_type": "code",
      "source": [
        "import pandas as pd\n",
        "\n",
        "df = pd.read_csv('2014-2022.csv')"
      ],
      "metadata": {
        "id": "PWPiWfhEStXK"
      },
      "execution_count": null,
      "outputs": []
    },
    {
      "cell_type": "code",
      "source": [
        "PWHL_df = pd.read_csv('PWHL_shots_by_region')"
      ],
      "metadata": {
        "id": "qkF-jJ70Z9dA"
      },
      "execution_count": null,
      "outputs": []
    },
    {
      "cell_type": "code",
      "source": [
        "\n",
        "import pandas as pd\n",
        "NHL_df = pd.read_csv('NHL_shots_by_region')"
      ],
      "metadata": {
        "id": "f23W-mygbyp_"
      },
      "execution_count": null,
      "outputs": []
    },
    {
      "cell_type": "markdown",
      "source": [
        "Break up the data into the training and testing data"
      ],
      "metadata": {
        "id": "PRmsX5sklCDT"
      }
    },
    {
      "cell_type": "code",
      "source": [
        "from sklearn.model_selection import train_test_split\n",
        "\n",
        "PWHL_key = PWHL_df['goal']\n",
        "\n",
        "PWHL_x_train_full, PWHL_x_test_full, PWHL_y_train, PWHL_y_test = train_test_split(PWHL_df, PWHL_key, test_size=0.30, random_state=88)"
      ],
      "metadata": {
        "id": "Oz2UMYoGa1-l"
      },
      "execution_count": null,
      "outputs": []
    },
    {
      "cell_type": "code",
      "source": [
        "from sklearn.model_selection import train_test_split\n",
        "\n",
        "NHL_key = NHL_df['goal']\n",
        "\n",
        "NHL_x_train_full, NHL_x_test_full, NHL_y_train, NHL_y_test = train_test_split(NHL_df, NHL_key, test_size=0.30, random_state=88)"
      ],
      "metadata": {
        "id": "u28WCgOHb9Cm"
      },
      "execution_count": null,
      "outputs": []
    },
    {
      "cell_type": "code",
      "source": [
        "PWHL_basicCols = ['region_1', 'region_2', 'region_3', 'region_4', 'region_5', 'region_6', 'region_7', 'region_8', 'region_9', 'region_10', 'region_11', 'region_12', 'region_13', 'region_14']\n",
        "PWHL_x_train = PWHL_x_train_full[PWHL_basicCols]\n",
        "PWHL_x_test = PWHL_x_test_full[PWHL_basicCols]"
      ],
      "metadata": {
        "id": "VdBsyAlRbFeG"
      },
      "execution_count": null,
      "outputs": []
    },
    {
      "cell_type": "code",
      "source": [
        "NHL_basicCols = ['region_1', 'region_2', 'region_3', 'region_4', 'region_5', 'region_6', 'region_7', 'region_8', 'region_9', 'region_10', 'region_11', 'region_12', 'region_13', 'region_14']\n",
        "NHL_x_train = NHL_x_train_full[NHL_basicCols]\n",
        "NHL_x_test = NHL_x_test_full[NHL_basicCols]"
      ],
      "metadata": {
        "id": "miYuQezGcFRv"
      },
      "execution_count": null,
      "outputs": []
    },
    {
      "cell_type": "code",
      "source": [
        "from sklearn.tree import DecisionTreeRegressor\n",
        "from sklearn.ensemble import GradientBoostingRegressor"
      ],
      "metadata": {
        "id": "VrVdY9-dlaod"
      },
      "execution_count": null,
      "outputs": []
    },
    {
      "cell_type": "markdown",
      "source": [
        "Gradient Boosting Classifier"
      ],
      "metadata": {
        "id": "AH1_NRLWlPJF"
      }
    },
    {
      "cell_type": "code",
      "source": [
        "PWHL_GBR = GradientBoostingRegressor()\n",
        "PWHL_GBR.fit(PWHL_x_train, PWHL_y_train)"
      ],
      "metadata": {
        "colab": {
          "base_uri": "https://localhost:8080/",
          "height": 74
        },
        "id": "_Wm9fT1lb-LZ",
        "outputId": "23b334bd-0eb7-4292-b247-0fe34047e7b2"
      },
      "execution_count": null,
      "outputs": [
        {
          "output_type": "execute_result",
          "data": {
            "text/plain": [
              "GradientBoostingRegressor()"
            ],
            "text/html": [
              "<style>#sk-container-id-2 {color: black;}#sk-container-id-2 pre{padding: 0;}#sk-container-id-2 div.sk-toggleable {background-color: white;}#sk-container-id-2 label.sk-toggleable__label {cursor: pointer;display: block;width: 100%;margin-bottom: 0;padding: 0.3em;box-sizing: border-box;text-align: center;}#sk-container-id-2 label.sk-toggleable__label-arrow:before {content: \"▸\";float: left;margin-right: 0.25em;color: #696969;}#sk-container-id-2 label.sk-toggleable__label-arrow:hover:before {color: black;}#sk-container-id-2 div.sk-estimator:hover label.sk-toggleable__label-arrow:before {color: black;}#sk-container-id-2 div.sk-toggleable__content {max-height: 0;max-width: 0;overflow: hidden;text-align: left;background-color: #f0f8ff;}#sk-container-id-2 div.sk-toggleable__content pre {margin: 0.2em;color: black;border-radius: 0.25em;background-color: #f0f8ff;}#sk-container-id-2 input.sk-toggleable__control:checked~div.sk-toggleable__content {max-height: 200px;max-width: 100%;overflow: auto;}#sk-container-id-2 input.sk-toggleable__control:checked~label.sk-toggleable__label-arrow:before {content: \"▾\";}#sk-container-id-2 div.sk-estimator input.sk-toggleable__control:checked~label.sk-toggleable__label {background-color: #d4ebff;}#sk-container-id-2 div.sk-label input.sk-toggleable__control:checked~label.sk-toggleable__label {background-color: #d4ebff;}#sk-container-id-2 input.sk-hidden--visually {border: 0;clip: rect(1px 1px 1px 1px);clip: rect(1px, 1px, 1px, 1px);height: 1px;margin: -1px;overflow: hidden;padding: 0;position: absolute;width: 1px;}#sk-container-id-2 div.sk-estimator {font-family: monospace;background-color: #f0f8ff;border: 1px dotted black;border-radius: 0.25em;box-sizing: border-box;margin-bottom: 0.5em;}#sk-container-id-2 div.sk-estimator:hover {background-color: #d4ebff;}#sk-container-id-2 div.sk-parallel-item::after {content: \"\";width: 100%;border-bottom: 1px solid gray;flex-grow: 1;}#sk-container-id-2 div.sk-label:hover label.sk-toggleable__label {background-color: #d4ebff;}#sk-container-id-2 div.sk-serial::before {content: \"\";position: absolute;border-left: 1px solid gray;box-sizing: border-box;top: 0;bottom: 0;left: 50%;z-index: 0;}#sk-container-id-2 div.sk-serial {display: flex;flex-direction: column;align-items: center;background-color: white;padding-right: 0.2em;padding-left: 0.2em;position: relative;}#sk-container-id-2 div.sk-item {position: relative;z-index: 1;}#sk-container-id-2 div.sk-parallel {display: flex;align-items: stretch;justify-content: center;background-color: white;position: relative;}#sk-container-id-2 div.sk-item::before, #sk-container-id-2 div.sk-parallel-item::before {content: \"\";position: absolute;border-left: 1px solid gray;box-sizing: border-box;top: 0;bottom: 0;left: 50%;z-index: -1;}#sk-container-id-2 div.sk-parallel-item {display: flex;flex-direction: column;z-index: 1;position: relative;background-color: white;}#sk-container-id-2 div.sk-parallel-item:first-child::after {align-self: flex-end;width: 50%;}#sk-container-id-2 div.sk-parallel-item:last-child::after {align-self: flex-start;width: 50%;}#sk-container-id-2 div.sk-parallel-item:only-child::after {width: 0;}#sk-container-id-2 div.sk-dashed-wrapped {border: 1px dashed gray;margin: 0 0.4em 0.5em 0.4em;box-sizing: border-box;padding-bottom: 0.4em;background-color: white;}#sk-container-id-2 div.sk-label label {font-family: monospace;font-weight: bold;display: inline-block;line-height: 1.2em;}#sk-container-id-2 div.sk-label-container {text-align: center;}#sk-container-id-2 div.sk-container {/* jupyter's `normalize.less` sets `[hidden] { display: none; }` but bootstrap.min.css set `[hidden] { display: none !important; }` so we also need the `!important` here to be able to override the default hidden behavior on the sphinx rendered scikit-learn.org. See: https://github.com/scikit-learn/scikit-learn/issues/21755 */display: inline-block !important;position: relative;}#sk-container-id-2 div.sk-text-repr-fallback {display: none;}</style><div id=\"sk-container-id-2\" class=\"sk-top-container\"><div class=\"sk-text-repr-fallback\"><pre>GradientBoostingRegressor()</pre><b>In a Jupyter environment, please rerun this cell to show the HTML representation or trust the notebook. <br />On GitHub, the HTML representation is unable to render, please try loading this page with nbviewer.org.</b></div><div class=\"sk-container\" hidden><div class=\"sk-item\"><div class=\"sk-estimator sk-toggleable\"><input class=\"sk-toggleable__control sk-hidden--visually\" id=\"sk-estimator-id-2\" type=\"checkbox\" checked><label for=\"sk-estimator-id-2\" class=\"sk-toggleable__label sk-toggleable__label-arrow\">GradientBoostingRegressor</label><div class=\"sk-toggleable__content\"><pre>GradientBoostingRegressor()</pre></div></div></div></div></div>"
            ]
          },
          "metadata": {},
          "execution_count": 18
        }
      ]
    },
    {
      "cell_type": "code",
      "source": [
        "NHL_GBR = GradientBoostingRegressor()\n",
        "NHL_GBR.fit(NHL_x_train, NHL_y_train)"
      ],
      "metadata": {
        "colab": {
          "base_uri": "https://localhost:8080/",
          "height": 74
        },
        "id": "9t1aPPcucK0L",
        "outputId": "4e684fa2-a374-482d-d757-ecbeb301cb1b"
      },
      "execution_count": null,
      "outputs": [
        {
          "output_type": "execute_result",
          "data": {
            "text/plain": [
              "GradientBoostingRegressor()"
            ],
            "text/html": [
              "<style>#sk-container-id-1 {color: black;}#sk-container-id-1 pre{padding: 0;}#sk-container-id-1 div.sk-toggleable {background-color: white;}#sk-container-id-1 label.sk-toggleable__label {cursor: pointer;display: block;width: 100%;margin-bottom: 0;padding: 0.3em;box-sizing: border-box;text-align: center;}#sk-container-id-1 label.sk-toggleable__label-arrow:before {content: \"▸\";float: left;margin-right: 0.25em;color: #696969;}#sk-container-id-1 label.sk-toggleable__label-arrow:hover:before {color: black;}#sk-container-id-1 div.sk-estimator:hover label.sk-toggleable__label-arrow:before {color: black;}#sk-container-id-1 div.sk-toggleable__content {max-height: 0;max-width: 0;overflow: hidden;text-align: left;background-color: #f0f8ff;}#sk-container-id-1 div.sk-toggleable__content pre {margin: 0.2em;color: black;border-radius: 0.25em;background-color: #f0f8ff;}#sk-container-id-1 input.sk-toggleable__control:checked~div.sk-toggleable__content {max-height: 200px;max-width: 100%;overflow: auto;}#sk-container-id-1 input.sk-toggleable__control:checked~label.sk-toggleable__label-arrow:before {content: \"▾\";}#sk-container-id-1 div.sk-estimator input.sk-toggleable__control:checked~label.sk-toggleable__label {background-color: #d4ebff;}#sk-container-id-1 div.sk-label input.sk-toggleable__control:checked~label.sk-toggleable__label {background-color: #d4ebff;}#sk-container-id-1 input.sk-hidden--visually {border: 0;clip: rect(1px 1px 1px 1px);clip: rect(1px, 1px, 1px, 1px);height: 1px;margin: -1px;overflow: hidden;padding: 0;position: absolute;width: 1px;}#sk-container-id-1 div.sk-estimator {font-family: monospace;background-color: #f0f8ff;border: 1px dotted black;border-radius: 0.25em;box-sizing: border-box;margin-bottom: 0.5em;}#sk-container-id-1 div.sk-estimator:hover {background-color: #d4ebff;}#sk-container-id-1 div.sk-parallel-item::after {content: \"\";width: 100%;border-bottom: 1px solid gray;flex-grow: 1;}#sk-container-id-1 div.sk-label:hover label.sk-toggleable__label {background-color: #d4ebff;}#sk-container-id-1 div.sk-serial::before {content: \"\";position: absolute;border-left: 1px solid gray;box-sizing: border-box;top: 0;bottom: 0;left: 50%;z-index: 0;}#sk-container-id-1 div.sk-serial {display: flex;flex-direction: column;align-items: center;background-color: white;padding-right: 0.2em;padding-left: 0.2em;position: relative;}#sk-container-id-1 div.sk-item {position: relative;z-index: 1;}#sk-container-id-1 div.sk-parallel {display: flex;align-items: stretch;justify-content: center;background-color: white;position: relative;}#sk-container-id-1 div.sk-item::before, #sk-container-id-1 div.sk-parallel-item::before {content: \"\";position: absolute;border-left: 1px solid gray;box-sizing: border-box;top: 0;bottom: 0;left: 50%;z-index: -1;}#sk-container-id-1 div.sk-parallel-item {display: flex;flex-direction: column;z-index: 1;position: relative;background-color: white;}#sk-container-id-1 div.sk-parallel-item:first-child::after {align-self: flex-end;width: 50%;}#sk-container-id-1 div.sk-parallel-item:last-child::after {align-self: flex-start;width: 50%;}#sk-container-id-1 div.sk-parallel-item:only-child::after {width: 0;}#sk-container-id-1 div.sk-dashed-wrapped {border: 1px dashed gray;margin: 0 0.4em 0.5em 0.4em;box-sizing: border-box;padding-bottom: 0.4em;background-color: white;}#sk-container-id-1 div.sk-label label {font-family: monospace;font-weight: bold;display: inline-block;line-height: 1.2em;}#sk-container-id-1 div.sk-label-container {text-align: center;}#sk-container-id-1 div.sk-container {/* jupyter's `normalize.less` sets `[hidden] { display: none; }` but bootstrap.min.css set `[hidden] { display: none !important; }` so we also need the `!important` here to be able to override the default hidden behavior on the sphinx rendered scikit-learn.org. See: https://github.com/scikit-learn/scikit-learn/issues/21755 */display: inline-block !important;position: relative;}#sk-container-id-1 div.sk-text-repr-fallback {display: none;}</style><div id=\"sk-container-id-1\" class=\"sk-top-container\"><div class=\"sk-text-repr-fallback\"><pre>GradientBoostingRegressor()</pre><b>In a Jupyter environment, please rerun this cell to show the HTML representation or trust the notebook. <br />On GitHub, the HTML representation is unable to render, please try loading this page with nbviewer.org.</b></div><div class=\"sk-container\" hidden><div class=\"sk-item\"><div class=\"sk-estimator sk-toggleable\"><input class=\"sk-toggleable__control sk-hidden--visually\" id=\"sk-estimator-id-1\" type=\"checkbox\" checked><label for=\"sk-estimator-id-1\" class=\"sk-toggleable__label sk-toggleable__label-arrow\">GradientBoostingRegressor</label><div class=\"sk-toggleable__content\"><pre>GradientBoostingRegressor()</pre></div></div></div></div></div>"
            ]
          },
          "metadata": {},
          "execution_count": 6
        }
      ]
    },
    {
      "cell_type": "markdown",
      "source": [
        "Now we can see what the losses are for each trained model when we use the testing set"
      ],
      "metadata": {
        "id": "Mdd4RDg2oh2D"
      }
    },
    {
      "cell_type": "code",
      "source": [
        "import numpy as np\n",
        "\n",
        "from sklearn.metrics import mean_squared_error\n",
        "\n",
        "PWHL_GBR_pred = PWHL_GBR.predict(PWHL_x_test)\n",
        "\n",
        "RMSE_PWHL_GBR = np.sqrt(mean_squared_error(PWHL_y_test, PWHL_GBR_pred))\n",
        "\n",
        "print(\"Gradient Boosting RMSE:\", RMSE_PWHL_GBR)\n"
      ],
      "metadata": {
        "colab": {
          "base_uri": "https://localhost:8080/"
        },
        "id": "mOqRUgvxcG90",
        "outputId": "865d4ecf-7a08-4779-816a-de16a1366771"
      },
      "execution_count": null,
      "outputs": [
        {
          "output_type": "stream",
          "name": "stdout",
          "text": [
            "Gradient Boosting RMSE: 0.2800887472097898\n"
          ]
        }
      ]
    },
    {
      "cell_type": "code",
      "source": [
        "import numpy as np\n",
        "\n",
        "from sklearn.metrics import mean_squared_error\n",
        "\n",
        "NHL_GBR_pred = NHL_GBR.predict(NHL_x_test)\n",
        "\n",
        "RMSE_NHL_GBR = np.sqrt(mean_squared_error(NHL_y_test, NHL_GBR_pred))\n",
        "\n",
        "print(\"Gradient Boosting RMSE:\", RMSE_NHL_GBR)"
      ],
      "metadata": {
        "colab": {
          "base_uri": "https://localhost:8080/"
        },
        "id": "O0QhFbYScXxS",
        "outputId": "06eeff88-1c90-4a23-b418-be691e84c7bb"
      },
      "execution_count": null,
      "outputs": [
        {
          "output_type": "stream",
          "name": "stdout",
          "text": [
            "Gradient Boosting RMSE: 0.28530490850594203\n"
          ]
        }
      ]
    },
    {
      "cell_type": "code",
      "source": [
        "import pandas as pd\n",
        "import numpy as np\n",
        "\n",
        "# Assuming your test features include 13 columns named region_1 to region_13\n",
        "region_columns = ['region_1', 'region_2', 'region_3', 'region_4', 'region_5',\n",
        "                  'region_6', 'region_7', 'region_8', 'region_9', 'region_10',\n",
        "                  'region_11', 'region_12', 'region_13', 'region_14']\n",
        "\n",
        "# Create an empty DataFrame to store the xG per region\n",
        "xg_per_region_PWHL = pd.DataFrame(columns=['region', 'xG'])\n",
        "\n",
        "# Loop through each region\n",
        "for region in region_columns:\n",
        "    # Create a DataFrame where all regions are 0\n",
        "    test_data = pd.DataFrame(0, index=[0], columns=region_columns)\n",
        "\n",
        "    # Set the current region to 1 (indicating a shot from that region)\n",
        "    test_data[region] = 1\n",
        "\n",
        "    # Predict the xG for this configuration\n",
        "    xg = PWHL_GBR.predict(test_data)[0]  # Get the predicted xG\n",
        "\n",
        "    # Store the result using pd.concat\n",
        "    new_row = pd.DataFrame({'region': [region], 'xG': [xg]})\n",
        "    xg_per_region_PWHL = pd.concat([xg_per_region_PWHL, new_row], ignore_index=True)\n",
        "\n",
        "# Display the xG per region\n",
        "print(xg_per_region_PWHL)\n"
      ],
      "metadata": {
        "colab": {
          "base_uri": "https://localhost:8080/"
        },
        "id": "3D_Qj51Cc8QU",
        "outputId": "a2c72d3d-1d12-44c3-d779-ae9a1af2a930"
      },
      "execution_count": null,
      "outputs": [
        {
          "output_type": "stream",
          "name": "stdout",
          "text": [
            "       region        xG\n",
            "0    region_1  0.084842\n",
            "1    region_2  0.189633\n",
            "2    region_3  0.020739\n",
            "3    region_4  0.134533\n",
            "4    region_5  0.059088\n",
            "5    region_6  0.018506\n",
            "6    region_7  0.058387\n",
            "7    region_8  0.082456\n",
            "8    region_9  0.033699\n",
            "9   region_10  0.025245\n",
            "10  region_11  0.042244\n",
            "11  region_12  0.043209\n",
            "12  region_13  0.062576\n",
            "13  region_14  0.010337\n"
          ]
        },
        {
          "output_type": "stream",
          "name": "stderr",
          "text": [
            "<ipython-input-20-7090dd7997e3>:25: FutureWarning: The behavior of DataFrame concatenation with empty or all-NA entries is deprecated. In a future version, this will no longer exclude empty or all-NA columns when determining the result dtypes. To retain the old behavior, exclude the relevant entries before the concat operation.\n",
            "  xg_per_region_PWHL = pd.concat([xg_per_region_PWHL, new_row], ignore_index=True)\n"
          ]
        }
      ]
    },
    {
      "cell_type": "code",
      "source": [
        "import pandas as pd\n",
        "import numpy as np\n",
        "\n",
        "# Assuming your test features include 13 columns named region_1 to region_13\n",
        "region_columns = ['region_1', 'region_2', 'region_3', 'region_4', 'region_5',\n",
        "                  'region_6', 'region_7', 'region_8', 'region_9', 'region_10',\n",
        "                  'region_11', 'region_12', 'region_13', 'region_14']\n",
        "\n",
        "# Create an empty DataFrame to store the xG per region\n",
        "xg_per_region_NHL = pd.DataFrame(columns=['region', 'xG'])\n",
        "\n",
        "# Loop through each region\n",
        "for region in region_columns:\n",
        "    # Create a DataFrame where all regions are 0\n",
        "    test_data = pd.DataFrame(0, index=[0], columns=region_columns)\n",
        "\n",
        "    # Set the current region to 1 (indicating a shot from that region)\n",
        "    test_data[region] = 1\n",
        "\n",
        "    # Predict the xG for this configuration\n",
        "    xg = NHL_GBR.predict(test_data)[0]  # Get the predicted xG\n",
        "\n",
        "    # Store the result using pd.concat\n",
        "    new_row = pd.DataFrame({'region': [region], 'xG': [xg]})\n",
        "    xg_per_region_NHL = pd.concat([xg_per_region_NHL, new_row], ignore_index=True)\n",
        "\n",
        "# Display the xG per region\n",
        "print(xg_per_region_NHL['xG'])\n"
      ],
      "metadata": {
        "colab": {
          "base_uri": "https://localhost:8080/"
        },
        "id": "DKLruzw9ciC5",
        "outputId": "5ea9ed4c-b488-491f-e9e8-3df15e593d01"
      },
      "execution_count": null,
      "outputs": [
        {
          "output_type": "stream",
          "name": "stdout",
          "text": [
            "0     0.098994\n",
            "1     0.210185\n",
            "2     0.069506\n",
            "3     0.174085\n",
            "4     0.072735\n",
            "5     0.037440\n",
            "6     0.079963\n",
            "7     0.121250\n",
            "8     0.083690\n",
            "9     0.042728\n",
            "10    0.028067\n",
            "11    0.046303\n",
            "12    0.028073\n",
            "13    0.042053\n",
            "Name: xG, dtype: float64\n"
          ]
        },
        {
          "output_type": "stream",
          "name": "stderr",
          "text": [
            "<ipython-input-14-69d4b217713c>:25: FutureWarning: The behavior of DataFrame concatenation with empty or all-NA entries is deprecated. In a future version, this will no longer exclude empty or all-NA columns when determining the result dtypes. To retain the old behavior, exclude the relevant entries before the concat operation.\n",
            "  xg_per_region_NHL = pd.concat([xg_per_region_NHL, new_row], ignore_index=True)\n"
          ]
        }
      ]
    },
    {
      "cell_type": "code",
      "source": [
        "diff_xg = xg_per_region_NHL['xG'] - xg_per_region_PWHL['xG']\n",
        "print(diff_xg)"
      ],
      "metadata": {
        "id": "vCoLMLRNdiao",
        "outputId": "6672f1fb-7b1d-49be-fbd5-3d61dbad8e15",
        "colab": {
          "base_uri": "https://localhost:8080/"
        }
      },
      "execution_count": null,
      "outputs": [
        {
          "output_type": "stream",
          "name": "stdout",
          "text": [
            "0     0.014152\n",
            "1     0.020553\n",
            "2     0.048768\n",
            "3     0.039553\n",
            "4     0.013647\n",
            "5     0.018934\n",
            "6     0.021576\n",
            "7     0.038794\n",
            "8     0.049991\n",
            "9     0.017483\n",
            "10   -0.014177\n",
            "11    0.003094\n",
            "12   -0.034503\n",
            "13    0.031716\n",
            "Name: xG, dtype: float64\n"
          ]
        }
      ]
    }
  ]
}